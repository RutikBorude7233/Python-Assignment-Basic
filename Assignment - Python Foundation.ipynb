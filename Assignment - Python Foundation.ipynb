{
 "cells": [
  {
   "cell_type": "code",
   "execution_count": 1,
   "id": "56098072",
   "metadata": {},
   "outputs": [
    {
     "data": {
      "text/plain": [
       "4.0"
      ]
     },
     "execution_count": 1,
     "metadata": {},
     "output_type": "execute_result"
    }
   ],
   "source": [
    "5+4*9%(3+1)/6-1"
   ]
  },
  {
   "cell_type": "code",
   "execution_count": 2,
   "id": "716fd65b",
   "metadata": {},
   "outputs": [
    {
     "name": "stdout",
     "output_type": "stream",
     "text": [
      "Enter the number: 3\n",
      "Odd Number\n"
     ]
    }
   ],
   "source": [
    "a = int(input(\"Enter the number: \"))\n",
    "\n",
    "if a%2==0:\n",
    "    print(\"Even Number\")\n",
    "else:\n",
    "    print(\"Odd Number\")"
   ]
  },
  {
   "cell_type": "code",
   "execution_count": 3,
   "id": "a2c559f6",
   "metadata": {},
   "outputs": [
    {
     "name": "stdout",
     "output_type": "stream",
     "text": [
      "5 x 1 = 5\n"
     ]
    }
   ],
   "source": [
    "print(5, 'x', 1, '=', 5 * 1)"
   ]
  },
  {
   "cell_type": "code",
   "execution_count": 4,
   "id": "0844062d",
   "metadata": {},
   "outputs": [
    {
     "name": "stdout",
     "output_type": "stream",
     "text": [
      "Table of: 5\n",
      "5 x 1 = 5\n",
      "5 x 2 = 10\n",
      "5 x 3 = 15\n",
      "5 x 4 = 20\n",
      "5 x 5 = 25\n",
      "5 x 6 = 30\n",
      "5 x 7 = 35\n",
      "5 x 8 = 40\n",
      "5 x 9 = 45\n",
      "5 x 10 = 50\n"
     ]
    }
   ],
   "source": [
    "num=int(input(\"Table of: \"))\n",
    "\n",
    "for i in range(1,11):\n",
    "    print(num, 'x',i,'=',num*i)"
   ]
  },
  {
   "cell_type": "code",
   "execution_count": 5,
   "id": "5dffad30",
   "metadata": {},
   "outputs": [
    {
     "name": "stdout",
     "output_type": "stream",
     "text": [
      "2002\n",
      "2009\n",
      "2016\n",
      "2023\n",
      "2037\n",
      "2044\n",
      "2051\n",
      "2058\n",
      "2072\n",
      "2079\n",
      "2086\n",
      "2093\n",
      "2107\n",
      "2114\n",
      "2121\n",
      "2128\n",
      "2142\n",
      "2149\n",
      "2156\n",
      "2163\n",
      "2177\n",
      "2184\n",
      "2191\n",
      "2198\n",
      "2212\n",
      "2219\n",
      "2226\n",
      "2233\n",
      "2247\n",
      "2254\n",
      "2261\n",
      "2268\n",
      "2282\n",
      "2289\n",
      "2296\n",
      "2303\n",
      "2317\n",
      "2324\n",
      "2331\n",
      "2338\n",
      "2352\n",
      "2359\n",
      "2366\n",
      "2373\n",
      "2387\n",
      "2394\n",
      "2401\n",
      "2408\n",
      "2422\n",
      "2429\n",
      "2436\n",
      "2443\n",
      "2457\n",
      "2464\n",
      "2471\n",
      "2478\n",
      "2492\n",
      "2499\n",
      "2506\n",
      "2513\n",
      "2527\n",
      "2534\n",
      "2541\n",
      "2548\n",
      "2562\n",
      "2569\n",
      "2576\n",
      "2583\n",
      "2597\n",
      "2604\n",
      "2611\n",
      "2618\n",
      "2632\n",
      "2639\n",
      "2646\n",
      "2653\n",
      "2667\n",
      "2674\n",
      "2681\n",
      "2688\n",
      "2702\n",
      "2709\n",
      "2716\n",
      "2723\n",
      "2737\n",
      "2744\n",
      "2751\n",
      "2758\n",
      "2772\n",
      "2779\n",
      "2786\n",
      "2793\n",
      "2807\n",
      "2814\n",
      "2821\n",
      "2828\n",
      "2842\n",
      "2849\n",
      "2856\n",
      "2863\n",
      "2877\n",
      "2884\n",
      "2891\n",
      "2898\n",
      "2912\n",
      "2919\n",
      "2926\n",
      "2933\n",
      "2947\n",
      "2954\n",
      "2961\n",
      "2968\n",
      "2982\n",
      "2989\n",
      "2996\n",
      "3003\n",
      "3017\n",
      "3024\n",
      "3031\n",
      "3038\n",
      "3052\n",
      "3059\n",
      "3066\n",
      "3073\n",
      "3087\n",
      "3094\n",
      "3101\n",
      "3108\n",
      "3122\n",
      "3129\n",
      "3136\n",
      "3143\n",
      "3157\n",
      "3164\n",
      "3171\n",
      "3178\n",
      "3192\n",
      "3199\n"
     ]
    }
   ],
   "source": [
    "for i in range(2000,3200):\n",
    "    if i%7==0 and i%5!=0:\n",
    "        print(i)"
   ]
  },
  {
   "cell_type": "code",
   "execution_count": 6,
   "id": "a687f364",
   "metadata": {},
   "outputs": [
    {
     "name": "stdout",
     "output_type": "stream",
     "text": [
      "count of numbers 5, Count of decimal 1, Count of string 4, Count of None 1, Count of boolian 1\n"
     ]
    }
   ],
   "source": [
    "a=[2, 3, 'Py', '10', 1, 'SQL', 5.5, True, 3, 'John', None, 7]\n",
    "\n",
    "number=0\n",
    "decimal=0\n",
    "string=0\n",
    "none=0\n",
    "boolian=0\n",
    "\n",
    "for i in a:\n",
    "    if type(i)== int:\n",
    "        number+=1\n",
    "    elif type(i)== float:\n",
    "        decimal+=1\n",
    "    elif type(i)== str:\n",
    "        string+=1\n",
    "    elif i == None:\n",
    "        none+=1\n",
    "    else:\n",
    "        boolian+=1\n",
    "\n",
    "    \n",
    "print(f'count of numbers {number}, Count of decimal {decimal}, Count of string {string}, Count of None {none}, Count of boolian {boolian}')"
   ]
  },
  {
   "cell_type": "code",
   "execution_count": 7,
   "id": "5a49dac9",
   "metadata": {},
   "outputs": [
    {
     "name": "stdout",
     "output_type": "stream",
     "text": [
      "2 3 1 5.5 3 7 "
     ]
    }
   ],
   "source": [
    "a = [2, 3, 'Py', '10', 1, 'SQL', 5.5, True, 3, 'John', None, 7] \n",
    "\n",
    "for i in a:\n",
    "    if type(i)== int or type(i)== float:\n",
    "        print(i, end=' ')"
   ]
  },
  {
   "cell_type": "code",
   "execution_count": 9,
   "id": "0a6510c1",
   "metadata": {},
   "outputs": [
    {
     "name": "stdout",
     "output_type": "stream",
     "text": [
      "Py-10-SQL-John-"
     ]
    }
   ],
   "source": [
    "for i in a:\n",
    "    if type(i)== str:\n",
    "        print(i, end='-')"
   ]
  },
  {
   "cell_type": "code",
   "execution_count": 10,
   "id": "4f8db199",
   "metadata": {},
   "outputs": [],
   "source": [
    "def afunction(lis):\n",
    "    num=0\n",
    "    string=0\n",
    "    for i in a:\n",
    "        if type(i)== int or type(i)== float:\n",
    "            num+=i\n",
    "        elif type(i)== str:\n",
    "            string+=1\n",
    "    print(f'Sum of all numbers is {num}, Count of all string is {string}')"
   ]
  },
  {
   "cell_type": "code",
   "execution_count": 11,
   "id": "6da472d2",
   "metadata": {},
   "outputs": [
    {
     "name": "stdout",
     "output_type": "stream",
     "text": [
      "Sum of all numbers is 21.5, Count of all string is 4\n"
     ]
    }
   ],
   "source": [
    "lis=[2, 3, 'Py', '10', 1, 'SQL', 5.5, True, 3, 'John', None, 7] \n",
    "\n",
    "afunction(lis)"
   ]
  },
  {
   "cell_type": "code",
   "execution_count": 12,
   "id": "0e319e9c",
   "metadata": {},
   "outputs": [],
   "source": [
    "li = [5, 7, 22, 97, 54, 62, 77, 23, 73, 61]"
   ]
  },
  {
   "cell_type": "code",
   "execution_count": 13,
   "id": "68823acb",
   "metadata": {},
   "outputs": [
    {
     "name": "stdout",
     "output_type": "stream",
     "text": [
      "[5, 7, 97, 77, 23, 73, 61]\n"
     ]
    }
   ],
   "source": [
    "# for loop\n",
    "newlis=[]\n",
    "for i in li:\n",
    "    if i%2 !=0:\n",
    "        newlis.append(i)\n",
    "print(newlis)    "
   ]
  },
  {
   "cell_type": "code",
   "execution_count": 14,
   "id": "d4360e80",
   "metadata": {},
   "outputs": [
    {
     "data": {
      "text/plain": [
       "[5, 7, 97, 77, 23, 73, 61]"
      ]
     },
     "execution_count": 14,
     "metadata": {},
     "output_type": "execute_result"
    }
   ],
   "source": [
    "newlis1=[i for i in li if i%2!=0]\n",
    "newlis1"
   ]
  },
  {
   "cell_type": "code",
   "execution_count": 15,
   "id": "91e01b94",
   "metadata": {},
   "outputs": [
    {
     "data": {
      "text/plain": [
       "[5, 7, 97, 77, 23, 73, 61]"
      ]
     },
     "execution_count": 15,
     "metadata": {},
     "output_type": "execute_result"
    }
   ],
   "source": [
    "newlis2= list(filter(lambda x:x%2!=0, li))\n",
    "newlis2"
   ]
  },
  {
   "cell_type": "code",
   "execution_count": 16,
   "id": "0780d633",
   "metadata": {},
   "outputs": [],
   "source": [
    "from statistics import mean\n",
    "\n",
    "def descriptives(*num):\n",
    "    Sum = 0    \n",
    "    for n in num:\n",
    "        Sum+=n\n",
    "    print(\"Sum of numbers\", Sum)\n",
    "    \n",
    "    print(\"Count of Numbers\",len(num))\n",
    "    print(\"Maximum Number\",max(num))\n",
    "    print(\"Minimum Number\",min(num))\n",
    "    print(\"Mean Number\",mean(num))"
   ]
  },
  {
   "cell_type": "code",
   "execution_count": 17,
   "id": "f09ead8d",
   "metadata": {},
   "outputs": [
    {
     "name": "stdout",
     "output_type": "stream",
     "text": [
      "Sum of numbers 33\n",
      "Count of Numbers 6\n",
      "Maximum Number 8\n",
      "Minimum Number 3\n",
      "Mean Number 5.5\n"
     ]
    }
   ],
   "source": [
    "descriptives(3,4,5,6,7,8)"
   ]
  },
  {
   "cell_type": "code",
   "execution_count": 18,
   "id": "120fcc7a",
   "metadata": {},
   "outputs": [],
   "source": [
    "def func(l1, l2):\n",
    "    \n",
    "    a = set(l1)\n",
    "    b = set(l2)\n",
    "    c= list(a.intersection(b))\n",
    "    d= list(a-b)\n",
    "    e= list(b-a)\n",
    "    print(\"Matched : \", c)\n",
    "    print(\"Only in l1 : \", d)\n",
    "    print(\"Only in l2 : \", e)\n",
    "    "
   ]
  },
  {
   "cell_type": "code",
   "execution_count": 19,
   "id": "fae172b7",
   "metadata": {},
   "outputs": [],
   "source": [
    "l1 = ['January', 'February', 'March', 'May', 'June', 'September', 'December']\n",
    "l2 = ['January', 'February', 'April', 'June', 'October', 'December']"
   ]
  },
  {
   "cell_type": "code",
   "execution_count": 20,
   "id": "0c40bc6b",
   "metadata": {},
   "outputs": [
    {
     "name": "stdout",
     "output_type": "stream",
     "text": [
      "Matched :  ['June', 'January', 'December', 'February']\n",
      "Only in l1 :  ['May', 'March', 'September']\n",
      "Only in l2 :  ['April', 'October']\n"
     ]
    }
   ],
   "source": [
    "func(l1,l2)"
   ]
  }
 ],
 "metadata": {
  "kernelspec": {
   "display_name": "Python 3 (ipykernel)",
   "language": "python",
   "name": "python3"
  },
  "language_info": {
   "codemirror_mode": {
    "name": "ipython",
    "version": 3
   },
   "file_extension": ".py",
   "mimetype": "text/x-python",
   "name": "python",
   "nbconvert_exporter": "python",
   "pygments_lexer": "ipython3",
   "version": "3.9.13"
  }
 },
 "nbformat": 4,
 "nbformat_minor": 5
}
